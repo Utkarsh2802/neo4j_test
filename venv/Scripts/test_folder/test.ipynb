{
 "metadata": {
  "language_info": {
   "codemirror_mode": {
    "name": "ipython",
    "version": 3
   },
   "file_extension": ".py",
   "mimetype": "text/x-python",
   "name": "python",
   "nbconvert_exporter": "python",
   "pygments_lexer": "ipython3",
   "version": "3.7.3"
  },
  "orig_nbformat": 4,
  "kernelspec": {
   "name": "python3",
   "display_name": "Python 3.7.3 64-bit ('venv')"
  },
  "interpreter": {
   "hash": "15fe52027cb05f8c8ab6cd38672684d6e5745c72581bbb0e539629f245187fb1"
  }
 },
 "nbformat": 4,
 "nbformat_minor": 2,
 "cells": [
  {
   "cell_type": "code",
   "execution_count": 2,
   "metadata": {},
   "outputs": [],
   "source": [
    "from neo4j import GraphDatabase\n",
    "import time\n",
    "driver = GraphDatabase.driver(uri=\"bolt://localhost:7687\",auth=(\"neo4j\",\"utkarsh\"))\n",
    "session = driver.session()\n",
    "\n",
    "\n"
   ]
  },
  {
   "cell_type": "code",
   "execution_count": 4,
   "metadata": {},
   "outputs": [
    {
     "output_type": "stream",
     "name": "stdout",
     "text": [
      "The Matrix\nThe Matrix Reloaded\nThe Matrix Revolutions\nThe Devil's Advocate\nA Few Good Men\nTop Gun\nJerry Maguire\nStand By Me\nAs Good as It Gets\nWhat Dreams May Come\nSnow Falling on Cedars\nYou've Got Mail\nSleepless in Seattle\nJoe Versus the Volcano\nWhen Harry Met Sally\nThat Thing You Do\nThe Replacements\nRescueDawn\nThe Birdcage\nUnforgiven\nJohnny Mnemonic\nCloud Atlas\nThe Da Vinci Code\nV for Vendetta\nSpeed Racer\nNinja Assassin\nThe Green Mile\nFrost/Nixon\nHoffa\nApollo 13\nTwister\nCast Away\nOne Flew Over the Cuckoo's Nest\nSomething's Gotta Give\nBicentennial Man\nCharlie Wilson's War\nThe Polar Express\nA League of Their Own\n10.500311851501465\n"
     ]
    }
   ],
   "source": [
    "query=\"\"\"\n",
    "MATCH (N:Movie) RETURN N \n",
    "\"\"\"\n",
    "results = session.run(query)\n",
    "n_repeat =2\n",
    "with driver.session() as session:\n",
    "    total_time=0\n",
    "    for _ in range(n_repeat):\n",
    "        with session.begin_transaction() as tx:\n",
    "            start = time.time()\n",
    "            result = tx.run(query)\n",
    "            for record in results:\n",
    "                print(record[0][\"title\"])\n",
    "            tx.commit()\n",
    "            total_time+=time.time()-start\n",
    "\"\"\"\n",
    "def create_rule():\n",
    "    conflicts = find_conflicts(rule)\n",
    "    if(conflicts == NULL):\n",
    "        add_rule()\n",
    "    else\n",
    "        print(prettify(conflicts))\n",
    "        list_to_delete = take_user_input()\n",
    "        delete_rule(list_to_delete)\n",
    "        add_rule()\n",
    "\n",
    "        \n",
    "\"\"\"\n",
    "print(total_time*1000 / n_repeat)"
   ]
  },
  {
   "cell_type": "code",
   "execution_count": null,
   "metadata": {},
   "outputs": [],
   "source": [
    "query=\"\"\"\n",
    "MATCH (N:Movie) RETURN N                                              \n",
    "\"\"\"\n",
    "results = session.run(query)\n",
    "n_repeat =2\n",
    "with driver.session() as session:\n",
    "    tota_time=0\n",
    "    for _ in range(n_repeat):\n",
    "        with session.begin_transaction() as tx:\n",
    "            start = time.time()\n",
    "            result = tx.run(query)\n",
    "            for record in results:\n",
    "                print(record[0][\"title\"])\n",
    "            tx.commit()\n",
    "            total_time+=time.time()-start\n",
    "\"\"\"\n",
    "def create_rule():\n",
    "    conflicts = find_conflicts(rule)\n",
    "    if(conflicts == NULL):\n",
    "        add_rule()\n",
    "    else\n",
    "        print(prettify(conflicts))\n",
    "        list_to_delete = take_user_input()\n",
    "        delete_rule(list_to_delete)\n",
    "        add_rule()\n",
    "\n",
    "        \n",
    "\"\"\"\n",
    "print(total_time*1000 / n_repeat)"
   ]
  },
  {
   "cell_type": "code",
   "execution_count": null,
   "metadata": {},
   "outputs": [],
   "source": [
    "#type something here when you join so that ik\n"
   ]
  }
 ]
}